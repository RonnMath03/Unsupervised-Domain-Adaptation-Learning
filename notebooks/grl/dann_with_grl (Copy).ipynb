{
 "cells": [
  {
   "cell_type": "markdown",
   "metadata": {
    "colab_type": "text",
    "id": "wCdWj_Ww36Bq"
   },
   "source": [
    "# Implementation with GRL: SVHN (Source) and MNIST (Target)"
   ]
  },
  {
   "cell_type": "code",
   "execution_count": 1,
   "metadata": {
    "colab": {},
    "colab_type": "code",
    "id": "55U-5Nwk36Bw"
   },
   "outputs": [],
   "source": [
    "import torch\n",
    "import torchvision\n",
    "import torch.nn as nn"
   ]
  },
  {
   "cell_type": "code",
   "execution_count": 2,
   "metadata": {
    "colab": {
     "base_uri": "https://localhost:8080/",
     "height": 35
    },
    "colab_type": "code",
    "id": "O5SHeDH24HnX",
    "outputId": "18ece497-0d25-4b69-e041-d280ca5ddc8e"
   },
   "outputs": [
    {
     "data": {
      "text/plain": [
       "'2.7.1+cu126'"
      ]
     },
     "execution_count": 2,
     "metadata": {},
     "output_type": "execute_result"
    }
   ],
   "source": [
    "torch.__version__"
   ]
  },
  {
   "cell_type": "code",
   "execution_count": 3,
   "metadata": {
    "colab": {},
    "colab_type": "code",
    "id": "cGHr9W5o36Bz"
   },
   "outputs": [],
   "source": [
    "from torch.utils.data import DataLoader\n",
    "from torchvision import datasets\n",
    "from torchvision import transforms"
   ]
  },
  {
   "cell_type": "code",
   "execution_count": 4,
   "metadata": {
    "colab": {},
    "colab_type": "code",
    "id": "3S7AK3Pa36B1"
   },
   "outputs": [],
   "source": [
    "import numpy as np\n",
    "import datetime\n",
    "import os, sys"
   ]
  },
  {
   "cell_type": "code",
   "execution_count": 5,
   "metadata": {
    "colab": {},
    "colab_type": "code",
    "id": "iTNg8OmY36B4"
   },
   "outputs": [],
   "source": [
    "from matplotlib.pyplot import imshow, imsave\n",
    "%matplotlib inline"
   ]
  },
  {
   "cell_type": "code",
   "execution_count": 6,
   "metadata": {
    "colab": {},
    "colab_type": "code",
    "id": "d_hVsBuF36B7"
   },
   "outputs": [
    {
     "name": "stdout",
     "output_type": "stream",
     "text": [
      "cuda\n"
     ]
    }
   ],
   "source": [
    "MODEL_NAME = 'DANN'\n",
    "print(\"cuda\") if torch.cuda.is_available() else print(\"cpu\")\n",
    "DEVICE = torch.device(\"cuda\" if torch.cuda.is_available() else \"cpu\")"
   ]
  },
  {
   "cell_type": "code",
   "execution_count": 7,
   "metadata": {
    "colab": {},
    "colab_type": "code",
    "id": "9OcpKYmx36CH"
   },
   "outputs": [],
   "source": [
    "class FeatureExtractor(nn.Module):\n",
    "    \"\"\"\n",
    "        Feature Extractor\n",
    "    \"\"\"\n",
    "    def __init__(self, in_channel=1, hidden_dims=512):\n",
    "        super(FeatureExtractor, self).__init__()\n",
    "        self.conv = nn.Sequential(\n",
    "            nn.Conv2d(in_channel, 64, 3, padding=1),\n",
    "            nn.BatchNorm2d(64),\n",
    "            nn.ReLU(inplace=True),\n",
    "            nn.Conv2d(64, 128, 3, padding=1),\n",
    "            nn.BatchNorm2d(128),\n",
    "            nn.ReLU(inplace=True),\n",
    "            nn.Conv2d(128, 256, 3, padding=1),\n",
    "            nn.BatchNorm2d(256),\n",
    "            nn.ReLU(inplace=True),\n",
    "            nn.Conv2d(256, 256, 3, padding=1),\n",
    "            nn.BatchNorm2d(256),\n",
    "            nn.ReLU(inplace=True),\n",
    "            nn.Conv2d(256, hidden_dims, 3, padding=1),\n",
    "            nn.BatchNorm2d(hidden_dims),\n",
    "            nn.ReLU(inplace=True),\n",
    "            nn.AdaptiveAvgPool2d((1,1)),\n",
    "        )\n",
    "        \n",
    "    def forward(self, x):\n",
    "        h = self.conv(x).squeeze() # (N, hidden_dims)\n",
    "        return h"
   ]
  },
  {
   "cell_type": "code",
   "execution_count": 8,
   "metadata": {
    "colab": {},
    "colab_type": "code",
    "id": "c-1JVlFr95C8"
   },
   "outputs": [],
   "source": [
    "class Classifier(nn.Module):\n",
    "    \"\"\"\n",
    "        Classifier\n",
    "    \"\"\"\n",
    "    def __init__(self, input_size=512, num_classes=10):\n",
    "        super(Classifier, self).__init__()\n",
    "        self.layer = nn.Sequential(\n",
    "            nn.Linear(input_size, 256),\n",
    "            nn.ReLU(inplace=True),\n",
    "            nn.Linear(256, num_classes),\n",
    "        )\n",
    "        \n",
    "    def forward(self, h):\n",
    "        c = self.layer(h)\n",
    "        return c"
   ]
  },
  {
   "cell_type": "code",
   "execution_count": 9,
   "metadata": {
    "colab": {},
    "colab_type": "code",
    "id": "CnxcDAu336CD"
   },
   "outputs": [],
   "source": [
    "class Discriminator(nn.Module):\n",
    "    \"\"\"\n",
    "        Simple Discriminator w/ MLP\n",
    "    \"\"\"\n",
    "    def __init__(self, input_size=512, num_classes=1):\n",
    "        super(Discriminator, self).__init__()\n",
    "        self.layer = nn.Sequential(\n",
    "            nn.Linear(input_size, 256),\n",
    "            nn.LeakyReLU(0.2),\n",
    "            nn.Linear(256, 128),\n",
    "            nn.LeakyReLU(0.2),\n",
    "            nn.Linear(128, num_classes),\n",
    "            nn.Sigmoid(),\n",
    "        )\n",
    "    \n",
    "    def forward(self, h):\n",
    "        y = self.layer(h)\n",
    "        return y"
   ]
  },
  {
   "cell_type": "code",
   "execution_count": 10,
   "metadata": {
    "colab": {},
    "colab_type": "code",
    "id": "rmaidaPO36CQ"
   },
   "outputs": [],
   "source": [
    "F = FeatureExtractor().to(DEVICE)\n",
    "C = Classifier().to(DEVICE)\n",
    "D = Discriminator().to(DEVICE)"
   ]
  },
  {
   "cell_type": "code",
   "execution_count": 11,
   "metadata": {
    "colab": {},
    "colab_type": "code",
    "id": "-zhMZpPc36CT"
   },
   "outputs": [],
   "source": [
    "transform = transforms.Compose([\n",
    "    transforms.Grayscale(1),\n",
    "    transforms.Resize(28),\n",
    "    transforms.ToTensor(),\n",
    "    transforms.Normalize(mean=[0.5],\n",
    "                         std=[0.5])\n",
    "])"
   ]
  },
  {
   "cell_type": "code",
   "execution_count": 12,
   "metadata": {
    "colab": {},
    "colab_type": "code",
    "id": "dctQjVmy36CX"
   },
   "outputs": [],
   "source": [
    "mnist_train = datasets.MNIST(root='../data/', train=True, transform=transform, download=True)\n",
    "mnist_test = datasets.MNIST(root='../data/', train=False, transform=transform, download=True)"
   ]
  },
  {
   "cell_type": "code",
   "execution_count": 13,
   "metadata": {
    "colab": {
     "base_uri": "https://localhost:8080/",
     "height": 53
    },
    "colab_type": "code",
    "id": "0GRgUyko4Yf8",
    "outputId": "8d5d6e2f-8a02-431f-80ef-f1f1583bc5b6"
   },
   "outputs": [],
   "source": [
    "svhn_train = datasets.SVHN(root='../data/', split='train', transform=transform, download=True)\n",
    "svhn_test = datasets.SVHN(root='../data/', split='test', transform=transform, download=True)"
   ]
  },
  {
   "cell_type": "code",
   "execution_count": 14,
   "metadata": {
    "colab": {},
    "colab_type": "code",
    "id": "k-yZsYK_36Ca"
   },
   "outputs": [],
   "source": [
    "batch_size = 64"
   ]
  },
  {
   "cell_type": "code",
   "execution_count": 15,
   "metadata": {
    "colab": {
     "base_uri": "https://localhost:8080/",
     "height": 35
    },
    "colab_type": "code",
    "id": "Nf_BypcP62yb",
    "outputId": "840bf031-34c1-4e69-859d-1665f4a7b86e"
   },
   "outputs": [
    {
     "data": {
      "text/plain": [
       "(73257, 3, 32, 32)"
      ]
     },
     "execution_count": 15,
     "metadata": {},
     "output_type": "execute_result"
    }
   ],
   "source": [
    "svhn_train.data.shape"
   ]
  },
  {
   "cell_type": "code",
   "execution_count": 16,
   "metadata": {
    "colab": {},
    "colab_type": "code",
    "id": "bNGJwRYq36Cc"
   },
   "outputs": [],
   "source": [
    "svhn_loader = DataLoader(dataset=svhn_train, batch_size=batch_size, shuffle=True, drop_last=True)\n",
    "mnist_loader = DataLoader(dataset=mnist_train, batch_size=batch_size, shuffle=True, drop_last=True)\n",
    "eval_loader = DataLoader(dataset=svhn_test, batch_size=batch_size, shuffle=False, drop_last=False)\n",
    "test_loader = DataLoader(dataset=mnist_test, batch_size=batch_size, shuffle=False, drop_last=False)"
   ]
  },
  {
   "cell_type": "code",
   "execution_count": 17,
   "metadata": {
    "colab": {},
    "colab_type": "code",
    "id": "-BvTO5_CCoRj"
   },
   "outputs": [],
   "source": [
    "bce = nn.BCELoss()\n",
    "xe = nn.CrossEntropyLoss()"
   ]
  },
  {
   "cell_type": "code",
   "execution_count": 18,
   "metadata": {
    "colab": {},
    "colab_type": "code",
    "id": "dx-hu7Kx36Ch"
   },
   "outputs": [],
   "source": [
    "F_opt = torch.optim.Adam(F.parameters())\n",
    "C_opt = torch.optim.Adam(C.parameters())\n",
    "D_opt = torch.optim.Adam(D.parameters())"
   ]
  },
  {
   "cell_type": "code",
   "execution_count": 19,
   "metadata": {
    "colab": {},
    "colab_type": "code",
    "id": "UZ4BHnuu36Co"
   },
   "outputs": [],
   "source": [
    "max_epoch = 50\n",
    "step = 0\n",
    "n_critic = 1 # for training more k steps about Discriminator\n",
    "n_batches = len(mnist_train)//batch_size\n",
    "# lamda = 0.01"
   ]
  },
  {
   "cell_type": "code",
   "execution_count": 20,
   "metadata": {
    "colab": {},
    "colab_type": "code",
    "id": "BUHf3Inf36Cs"
   },
   "outputs": [],
   "source": [
    "D_src = torch.ones(batch_size, 1).to(DEVICE) # Discriminator Label to real\n",
    "D_tgt = torch.zeros(batch_size, 1).to(DEVICE) # Discriminator Label to fake\n",
    "D_labels = torch.cat([D_src, D_tgt], dim=0)"
   ]
  },
  {
   "cell_type": "markdown",
   "metadata": {
    "colab_type": "text",
    "id": "uiCXVKq236Cz"
   },
   "source": [
    "### Training Code\n",
    "\n"
   ]
  },
  {
   "cell_type": "code",
   "execution_count": 21,
   "metadata": {
    "colab": {},
    "colab_type": "code",
    "id": "AzcPZLsnUACQ"
   },
   "outputs": [],
   "source": [
    "def get_lambda(epoch, max_epoch):\n",
    "    p = epoch / max_epoch\n",
    "    return 2. / (1+np.exp(-10.*p)) - 1."
   ]
  },
  {
   "cell_type": "code",
   "execution_count": 22,
   "metadata": {
    "colab": {},
    "colab_type": "code",
    "id": "KrX9TTe8BLLP"
   },
   "outputs": [],
   "source": [
    "mnist_set = iter(mnist_loader)\n",
    "\n",
    "def sample_mnist(step, n_batches):\n",
    "    global mnist_set\n",
    "    if step % n_batches == 0:\n",
    "        mnist_set = iter(mnist_loader)\n",
    "    return next(mnist_set)"
   ]
  },
  {
   "cell_type": "code",
   "execution_count": 23,
   "metadata": {},
   "outputs": [],
   "source": [
    "ll_c, ll_d = [], []\n",
    "s_acc_lst = []\n",
    "t_acc_lst = []"
   ]
  },
  {
   "cell_type": "code",
   "execution_count": 24,
   "metadata": {
    "colab": {
     "base_uri": "https://localhost:8080/",
     "height": 1000
    },
    "colab_type": "code",
    "id": "Q_htVI_VFwJ3",
    "jupyter": {
     "source_hidden": true
    },
    "outputId": "d571460c-dff5-46c6-dffa-fbd7396aba16",
    "scrolled": true
   },
   "outputs": [
    {
     "data": {
      "text/plain": [
       "\"\\nfor epoch in range(1, max_epoch+1):\\n    for idx, (src_images, labels) in enumerate(svhn_loader):\\n        tgt_images, _ = sample_mnist(step, n_batches)\\n        # Training Discriminator\\n        src, labels, tgt = src_images.to(DEVICE), labels.to(DEVICE), tgt_images.to(DEVICE)\\n\\n        x = torch.cat([src, tgt], dim=0)\\n        h = F(x)\\n        y = D(h.detach())\\n\\n        Ld = bce(y, D_labels)\\n        D.zero_grad()\\n        Ld.backward()\\n        D_opt.step()\\n\\n\\n        c = C(h[:batch_size])\\n        y = D(h)\\n        Lc = xe(c, labels)\\n        Ld = bce(y, D_labels)\\n        lamda = 0.1*get_lambda(epoch, max_epoch)\\n        Ltot = Lc -lamda*Ld\\n\\n\\n        F.zero_grad()\\n        C.zero_grad()\\n        D.zero_grad()\\n\\n        Ltot.backward()\\n\\n        C_opt.step()\\n        F_opt.step()\\n\\n        if step % 100 == 0:\\n            dt = datetime.datetime.now().strftime('%H:%M:%S')\\n            print('Epoch: {}/{}, Step: {}, D Loss: {:.4f}, C Loss: {:.4f}, lambda: {:.4f} ---- {}'.format(epoch, max_epoch, step, Ld.item(), Lc.item(), lamda, dt))\\n            ll_c.append(Lc.item())\\n            ll_d.append(Ld.item())\\n\\n        if step % 500 == 0:\\n            F.eval()\\n            C.eval()\\n            with torch.no_grad():\\n                corrects = torch.zeros(1).to(DEVICE)\\n                for idx, (src, labels) in enumerate(eval_loader):\\n                    src, labels = src.to(DEVICE), labels.to(DEVICE)\\n                    c = C(F(src))\\n                    _, preds = torch.max(c, 1)\\n                    corrects += (preds == labels).sum()\\n                acc = corrects.item() / len(eval_loader.dataset)\\n                print('***** Source Accuracy: {:.4f}, Step: {}'.format(acc, step))\\n                s_acc_lst.append(acc)\\n\\n                corrects = torch.zeros(1).to(DEVICE)\\n                for idx, (tgt, labels) in enumerate(test_loader):\\n                    tgt, labels = tgt.to(DEVICE), labels.to(DEVICE)\\n                    c = C(F(tgt))\\n                    _, preds = torch.max(c, 1)\\n                    corrects += (preds == labels).sum()\\n                acc = corrects.item() / len(test_loader.dataset)\\n                print('***** Target Accuracy: {:.4f}, Step: {}'.format(acc, step))\\n                t_acc_lst.append(acc)\\n\\n            F.train()\\n            C.train()\\n        step += 1\\n\""
      ]
     },
     "execution_count": 24,
     "metadata": {},
     "output_type": "execute_result"
    }
   ],
   "source": [
    "#old code\n",
    "'''\n",
    "for epoch in range(1, max_epoch+1):\n",
    "    for idx, (src_images, labels) in enumerate(svhn_loader):\n",
    "        tgt_images, _ = sample_mnist(step, n_batches)\n",
    "        # Training Discriminator\n",
    "        src, labels, tgt = src_images.to(DEVICE), labels.to(DEVICE), tgt_images.to(DEVICE)\n",
    "        \n",
    "        x = torch.cat([src, tgt], dim=0)\n",
    "        h = F(x)\n",
    "        y = D(h.detach())\n",
    "        \n",
    "        Ld = bce(y, D_labels)\n",
    "        D.zero_grad()\n",
    "        Ld.backward()\n",
    "        D_opt.step()\n",
    "        \n",
    "        \n",
    "        c = C(h[:batch_size])\n",
    "        y = D(h)\n",
    "        Lc = xe(c, labels)\n",
    "        Ld = bce(y, D_labels)\n",
    "        lamda = 0.1*get_lambda(epoch, max_epoch)\n",
    "        Ltot = Lc -lamda*Ld\n",
    "        \n",
    "        \n",
    "        F.zero_grad()\n",
    "        C.zero_grad()\n",
    "        D.zero_grad()\n",
    "        \n",
    "        Ltot.backward()\n",
    "        \n",
    "        C_opt.step()\n",
    "        F_opt.step()\n",
    "        \n",
    "        if step % 100 == 0:\n",
    "            dt = datetime.datetime.now().strftime('%H:%M:%S')\n",
    "            print('Epoch: {}/{}, Step: {}, D Loss: {:.4f}, C Loss: {:.4f}, lambda: {:.4f} ---- {}'.format(epoch, max_epoch, step, Ld.item(), Lc.item(), lamda, dt))\n",
    "            ll_c.append(Lc.item())\n",
    "            ll_d.append(Ld.item())\n",
    "        \n",
    "        if step % 500 == 0:\n",
    "            F.eval()\n",
    "            C.eval()\n",
    "            with torch.no_grad():\n",
    "                corrects = torch.zeros(1).to(DEVICE)\n",
    "                for idx, (src, labels) in enumerate(eval_loader):\n",
    "                    src, labels = src.to(DEVICE), labels.to(DEVICE)\n",
    "                    c = C(F(src))\n",
    "                    _, preds = torch.max(c, 1)\n",
    "                    corrects += (preds == labels).sum()\n",
    "                acc = corrects.item() / len(eval_loader.dataset)\n",
    "                print('***** Source Accuracy: {:.4f}, Step: {}'.format(acc, step))\n",
    "                s_acc_lst.append(acc)\n",
    "                \n",
    "                corrects = torch.zeros(1).to(DEVICE)\n",
    "                for idx, (tgt, labels) in enumerate(test_loader):\n",
    "                    tgt, labels = tgt.to(DEVICE), labels.to(DEVICE)\n",
    "                    c = C(F(tgt))\n",
    "                    _, preds = torch.max(c, 1)\n",
    "                    corrects += (preds == labels).sum()\n",
    "                acc = corrects.item() / len(test_loader.dataset)\n",
    "                print('***** Target Accuracy: {:.4f}, Step: {}'.format(acc, step))\n",
    "                t_acc_lst.append(acc)\n",
    "                \n",
    "            F.train()\n",
    "            C.train()\n",
    "        step += 1\n",
    "'''"
   ]
  },
  {
   "cell_type": "code",
   "execution_count": null,
   "metadata": {
    "colab": {
     "base_uri": "https://localhost:8080/",
     "height": 1000
    },
    "colab_type": "code",
    "id": "Q_htVI_VFwJ3",
    "outputId": "d571460c-dff5-46c6-dffa-fbd7396aba16",
    "scrolled": true
   },
   "outputs": [
    {
     "name": "stdout",
     "output_type": "stream",
     "text": [
      "Epoch: 1/50, Step: 0, D Loss: 0.6076, C Loss: 2.2895, lambda: 0.0100 ---- 10:26:11\n",
      "***** Source Accuracy: 0.0634, Step: 0\n",
      "\n",
      "🧪 Sample Predictions on Target Domain (MNIST):\n",
      "❌ Sample 1: Pred = 9, True = 7\n",
      "❌ Sample 2: Pred = 9, True = 2\n",
      "❌ Sample 3: Pred = 9, True = 1\n",
      "❌ Sample 4: Pred = 9, True = 0\n",
      "❌ Sample 5: Pred = 9, True = 4\n",
      "❌ Sample 6: Pred = 9, True = 1\n",
      "❌ Sample 7: Pred = 9, True = 4\n",
      "✅ Sample 8: Pred = 9, True = 9\n",
      "❌ Sample 9: Pred = 9, True = 5\n",
      "✅ Sample 10: Pred = 9, True = 9\n",
      "❌ Sample 11: Pred = 9, True = 0\n",
      "❌ Sample 12: Pred = 9, True = 6\n",
      "✅ Sample 13: Pred = 9, True = 9\n",
      "❌ Sample 14: Pred = 9, True = 0\n",
      "❌ Sample 15: Pred = 9, True = 1\n",
      " \n",
      "***** Target Accuracy: 0.1009, Step: 0\n",
      " \n",
      "Epoch: 1/50, Step: 100, D Loss: 0.0393, C Loss: 2.2026, lambda: 0.0100 ---- 10:26:47\n"
     ]
    }
   ],
   "source": [
    "for epoch in range(1, max_epoch+1):\n",
    "    for idx, (src_images, labels) in enumerate(svhn_loader):\n",
    "        tgt_images, _ = sample_mnist(step, n_batches)\n",
    "        src, labels, tgt = src_images.to(DEVICE), labels.to(DEVICE), tgt_images.to(DEVICE)\n",
    "\n",
    "        x = torch.cat([src, tgt], dim=0)\n",
    "        h = F(x)\n",
    "        y = D(h.detach())\n",
    "\n",
    "        Ld = bce(y, D_labels)\n",
    "        D.zero_grad()\n",
    "        Ld.backward()\n",
    "        D_opt.step()\n",
    "\n",
    "        c = C(h[:batch_size])\n",
    "        y = D(h)\n",
    "        Lc = xe(c, labels)\n",
    "        Ld = bce(y, D_labels)\n",
    "        lamda = 0.1 * get_lambda(epoch, max_epoch)\n",
    "        Ltot = Lc - lamda * Ld\n",
    "\n",
    "        F.zero_grad()\n",
    "        C.zero_grad()\n",
    "        D.zero_grad()\n",
    "\n",
    "        Ltot.backward()\n",
    "\n",
    "        C_opt.step()\n",
    "        F_opt.step()\n",
    "\n",
    "        if step % 100 == 0:\n",
    "            dt = datetime.datetime.now().strftime('%H:%M:%S')\n",
    "            print('Epoch: {}/{}, Step: {}, D Loss: {:.4f}, C Loss: {:.4f}, lambda: {:.4f} ---- {}'.format(\n",
    "                epoch, max_epoch, step, Ld.item(), Lc.item(), lamda, dt))\n",
    "            ll_c.append(Lc.item())\n",
    "            ll_d.append(Ld.item())\n",
    "\n",
    "        if step % 500 == 0:\n",
    "            F.eval()\n",
    "            C.eval()\n",
    "\n",
    "            # --- Source Domain Accuracy ---\n",
    "            with torch.no_grad():\n",
    "                correct_src = 0\n",
    "                for src_batch, src_labels in eval_loader:\n",
    "                    src_batch = src_batch.to(DEVICE)\n",
    "                    src_labels = src_labels.to(DEVICE)\n",
    "                    preds = C(F(src_batch)).argmax(1)\n",
    "                    correct_src += (preds == src_labels).sum().item()\n",
    "                src_acc = correct_src / len(eval_loader.dataset)\n",
    "                print('***** Source Accuracy: {:.4f}, Step: {}'.format(src_acc, step))\n",
    "                s_acc_lst.append(src_acc)\n",
    "\n",
    "            # --- Target Domain: Sample Logging ---\n",
    "            with torch.no_grad():\n",
    "                logged = 0\n",
    "                print(\"\\n🧪 Sample Predictions on Target Domain (MNIST):\")\n",
    "                for tgt_batch, tgt_labels in test_loader:\n",
    "                    tgt_batch = tgt_batch.to(DEVICE)\n",
    "                    tgt_labels = tgt_labels.to(DEVICE)\n",
    "                    preds = C(F(tgt_batch)).argmax(1)\n",
    "\n",
    "                    for i in range(len(tgt_labels)):\n",
    "                        if logged >= 15:\n",
    "                            break\n",
    "                        pred = preds[i].item()\n",
    "                        true = tgt_labels[i].item()\n",
    "                        status = \"✅\" if pred == true else \"❌\"\n",
    "                        print(f\"{status} Sample {logged+1}: Pred = {pred}, True = {true}\")\n",
    "                        logged += 1\n",
    "                    if logged >= 15:\n",
    "                        break\n",
    "\n",
    "            # --- Target Domain Accuracy ---\n",
    "            with torch.no_grad():\n",
    "                correct_tgt = 0\n",
    "                for tgt_batch, tgt_labels in test_loader:\n",
    "                    tgt_batch = tgt_batch.to(DEVICE)\n",
    "                    tgt_labels = tgt_labels.to(DEVICE)\n",
    "                    preds = C(F(tgt_batch)).argmax(1)\n",
    "                    correct_tgt += (preds == tgt_labels).sum().item()\n",
    "                tgt_acc = correct_tgt / len(test_loader.dataset)\n",
    "                print(\" \")\n",
    "                print('***** Target Accuracy: {:.4f}, Step: {}'.format(tgt_acc, step))\n",
    "                print(\" \")\n",
    "                t_acc_lst.append(tgt_acc)\n",
    "\n",
    "            F.train()\n",
    "            C.train()\n",
    "\n",
    "        step += 1\n"
   ]
  },
  {
   "cell_type": "markdown",
   "metadata": {
    "colab_type": "text",
    "id": "a8rIVAtx36C5"
   },
   "source": [
    "## Visualize Sample"
   ]
  },
  {
   "cell_type": "code",
   "execution_count": null,
   "metadata": {},
   "outputs": [],
   "source": [
    "import matplotlib.pyplot as plt"
   ]
  },
  {
   "cell_type": "code",
   "execution_count": null,
   "metadata": {},
   "outputs": [],
   "source": [
    "plt.title(\"Classification Loss\")\n",
    "plt.plot(range(len(ll_c)), ll_c)"
   ]
  },
  {
   "cell_type": "code",
   "execution_count": null,
   "metadata": {},
   "outputs": [],
   "source": [
    "plt.title(\"Discriminator loss\")\n",
    "plt.plot(range(len(ll_d)), ll_d)"
   ]
  },
  {
   "cell_type": "code",
   "execution_count": null,
   "metadata": {},
   "outputs": [],
   "source": [
    "plt.title(\"Source Accuracy w GRL\")\n",
    "plt.plot(range(len(s_acc_lst)), s_acc_lst)"
   ]
  },
  {
   "cell_type": "code",
   "execution_count": null,
   "metadata": {},
   "outputs": [],
   "source": [
    "plt.title(\"Target Accuracy w GRL\")\n",
    "plt.plot(range(len(t_acc_lst)), t_acc_lst)"
   ]
  },
  {
   "cell_type": "code",
   "execution_count": null,
   "metadata": {},
   "outputs": [],
   "source": [
    "print(\"Maximum Source Accuracy w GRL:\",max(s_acc_lst))\n",
    "print(\"Maximum Target Accuracy w GRL:\",max(t_acc_lst))"
   ]
  },
  {
   "cell_type": "code",
   "execution_count": null,
   "metadata": {
    "colab": {},
    "colab_type": "code",
    "id": "ZjunDavN36C_"
   },
   "outputs": [],
   "source": [
    "from sklearn.metrics import confusion_matrix, ConfusionMatrixDisplay\n",
    "import matplotlib.pyplot as plt\n",
    "import torch\n",
    "\n",
    "# Set models to evaluation mode\n",
    "F.eval()\n",
    "C.eval()\n",
    "\n",
    "all_preds = []\n",
    "all_labels = []\n",
    "\n",
    "# Run on test data\n",
    "with torch.no_grad():\n",
    "    for data, labels in test_loader:  # Replace with your actual test DataLoader\n",
    "        data, labels = data.to(DEVICE), labels.to(DEVICE)\n",
    "\n",
    "        # Forward pass through feature extractor and classifier\n",
    "        features = F(data)\n",
    "        outputs = C(features)\n",
    "        _, preds = torch.max(outputs, 1)\n",
    "\n",
    "        all_preds.extend(preds.cpu().numpy())\n",
    "        all_labels.extend(labels.cpu().numpy())\n",
    "\n",
    "# Compute confusion matrix\n",
    "cm = confusion_matrix(all_labels, all_preds)\n",
    "disp = ConfusionMatrixDisplay(confusion_matrix=cm)\n",
    "\n",
    "# Display the confusion matrix\n",
    "disp.plot(cmap=plt.cm.Blues)\n",
    "plt.title(\"Confusion Matrix of Target Dataset w GRL\")\n",
    "plt.show()"
   ]
  },
  {
   "cell_type": "code",
   "execution_count": null,
   "metadata": {},
   "outputs": [],
   "source": []
  }
 ],
 "metadata": {
  "accelerator": "GPU",
  "colab": {
   "collapsed_sections": [],
   "name": "DANN.ipynb",
   "provenance": [],
   "version": "0.3.2"
  },
  "kernelspec": {
   "display_name": "Python 3 (ipykernel)",
   "language": "python",
   "name": "python3"
  },
  "language_info": {
   "codemirror_mode": {
    "name": "ipython",
    "version": 3
   },
   "file_extension": ".py",
   "mimetype": "text/x-python",
   "name": "python",
   "nbconvert_exporter": "python",
   "pygments_lexer": "ipython3",
   "version": "3.12.9"
  }
 },
 "nbformat": 4,
 "nbformat_minor": 4
}
